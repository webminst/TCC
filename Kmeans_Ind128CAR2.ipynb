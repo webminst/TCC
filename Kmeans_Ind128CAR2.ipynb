{
  "nbformat": 4,
  "nbformat_minor": 0,
  "metadata": {
    "colab": {
      "provenance": [],
      "include_colab_link": true
    },
    "kernelspec": {
      "name": "python3",
      "display_name": "Python 3"
    }
  },
  "cells": [
    {
      "cell_type": "markdown",
      "metadata": {
        "id": "view-in-github",
        "colab_type": "text"
      },
      "source": [
        "<a href=\"https://colab.research.google.com/github/webminst/TCC/blob/main/Kmeans_Ind128CAR2.ipynb\" target=\"_parent\"><img src=\"https://colab.research.google.com/assets/colab-badge.svg\" alt=\"Open In Colab\"/></a>"
      ]
    },
    {
      "cell_type": "code",
      "metadata": {
        "id": "sLUbTfD3-Y33"
      },
      "source": [
        "import numpy  as np #para manipular os vetores\n",
        "import pandas as pd\n",
        "import seaborn as sb\n",
        "import matplotlib.pyplot as plt #para plotar os gráficos\n",
        "from sklearn.cluster import KMeans #para usar o KMeans"
      ],
      "execution_count": null,
      "outputs": []
    },
    {
      "cell_type": "code",
      "metadata": {
        "id": "mFJzLWQlImwk"
      },
      "source": [
        "#### 1° etapa, localização dos centroides  ####\n",
        "def centroidesIniciais(df_dados, k):\n",
        "  df_centroides = df_dados.sample(n=k, replace=False, random_state=np.random.random_integers(0, len(df_dados)) )\n",
        "  df_centroides.pop('cluster') #remove a coluna cluster\n",
        "  df_centroides.pop('distance') #remove a coluna distance\n",
        "  return df_centroides"
      ],
      "execution_count": null,
      "outputs": []
    },
    {
      "cell_type": "code",
      "source": [
        "Centroides = np.array(\n",
        "   #matriz com os valores dos centroides\n",
        "   [[0x20, 0x20], #Centroide 1\n",
        "   [(0xe0 - 256), 0x20],  #Centroide 2\n",
        "   [(0xe0 - 256), (0xe0 - 256)],  #Centroide 3\n",
        "   [0x20, (0xe0 - 256),]]) #Centroide 4"
      ],
      "metadata": {
        "id": "52qrNBYaI6uq"
      },
      "execution_count": null,
      "outputs": []
    },
    {
      "cell_type": "code",
      "source": [
        "print(Centroides)"
      ],
      "metadata": {
        "colab": {
          "base_uri": "https://localhost:8080/"
        },
        "id": "Qu1n0Ya0nyaN",
        "outputId": "2e7ddcdc-0562-4ac9-ea17-e3e9a9429a5e"
      },
      "execution_count": null,
      "outputs": [
        {
          "output_type": "stream",
          "name": "stdout",
          "text": [
            "[[ 32  32]\n",
            " [-32  32]\n",
            " [-32 -32]\n",
            " [ 32 -32]]\n"
          ]
        }
      ]
    },
    {
      "cell_type": "code",
      "source": [
        "Individuos = np.array(\n",
        "#matriz com os valores dos indivíduos\n",
        "[[0x1a, 0xb],\n",
        "[0x3e, 0x3e],\n",
        "[0x30, 0x25],\n",
        "[0x33, 0x9],\n",
        "[0x3d, 0x14],\n",
        "[0xe, 0x16],\n",
        "[0x37, 0x2f],\n",
        "[0x16, 0x3b],\n",
        "[0x31, 0x3f],\n",
        "[0xc, 0xd],\n",
        "[0xf, 0x2c],\n",
        "[0x36, 0x19],\n",
        "[0x3f, 0x13],\n",
        "[0x5, 0x2e],\n",
        "[0x2b, 0x16],\n",
        "[0x18, 0xf],\n",
        "[0x21, 0x2c],\n",
        "[0x1d, 0x35],\n",
        "[0x3c, 0x20],\n",
        "[0x30, 0x25],\n",
        "[0x3c, 0x8],\n",
        "[0x14, 0x7],\n",
        "[0x7, 0x26],\n",
        "[0x11, 0x2d],\n",
        "[0x9, 0xd],\n",
        "[0x1e, 0x3b],\n",
        "[0x16, 0x20],\n",
        "[0x28, 0x13],\n",
        "[0x31, 0x29],\n",
        "[0x28, 0x36],\n",
        "[0x2c, 0xd],\n",
        "[0x5, 0x11],\n",
        "[(0xf3 - 256), 0x2b],\n",
        "[(0xf9 - 256), 0x3b],\n",
        "[(0xdd - 256), 0x3e],\n",
        "[(0xd4 - 256), 0x3c],\n",
        "[(0xdd - 256), 0xe],\n",
        "[(0xeb - 256), 0x14],\n",
        "[(0xc2 - 256), 0xb],\n",
        "[(0xe8 - 256), 0x28],\n",
        "[(0xe6 - 256), 0x6],\n",
        "[(0xf0 - 256), 0x3e],\n",
        "[(0xf8 - 256), 0x35],\n",
        "[(0xc9 - 256), 0x9],\n",
        "[(0xea - 256), 0x11],\n",
        "[(0xe3 - 256), 0x35],\n",
        "[(0xd7 - 256), 0x26],\n",
        "[(0xf2 - 256), 0x29],\n",
        "[(0xf4 - 256), 0xf],\n",
        "[(0xf3 - 256), 0x16],\n",
        "[(0xf5 - 256), 0x39],\n",
        "[(0xde - 256), 0xb],\n",
        "[(0xf2 - 256), 0x10],\n",
        "[(0xd5 - 256), 0x8],\n",
        "[(0xea - 256), 0x5],\n",
        "[(0xeb - 256), 0x38],\n",
        "[(0xf6 - 256), 0x21],\n",
        "[(0xea - 256), 0xa],\n",
        "[(0xe6 - 256), 0x3c],\n",
        "[(0xd5 - 256), 0x38],\n",
        "[(0xe9 - 256), 0x16],\n",
        "[(0xe3 - 256), 0xe],\n",
        "[(0xef - 256), 0x36],\n",
        "[(0xc1 - 256), 0x20],\n",
        "[(0xc8 - 256), (0xcb - 256)],\n",
        "[(0xf0 - 256), (0xe2 - 256)],\n",
        "[(0xf0 - 256), (0xd4 - 256)],\n",
        "[(0xd1 - 256), (0xde - 256)],\n",
        "[(0xd3 - 256), (0xdc - 256)],\n",
        "[(0xc5 - 256), (0xcd - 256)],\n",
        "[(0xe7 - 256), (0xed - 256)],\n",
        "[(0xe8 - 256), (0xd9 - 256)],\n",
        "[(0xcf - 256), (0xd4 - 256)],\n",
        "[(0xd4 - 256), (0xe4 - 256)],\n",
        "[(0xea - 256), (0xe8 - 256)],\n",
        "[(0xf4 - 256), (0xee - 256)],\n",
        "[(0xca - 256), (0xd8 - 256)],\n",
        "[(0xf3 - 256), (0xea - 256)],\n",
        "[(0xda - 256), (0xd6 - 256)],\n",
        "[(0xf7 - 256), (0xe6 - 256)],\n",
        "[(0xfa - 256), (0xcc - 256)],\n",
        "[(0xdb - 256), (0xc1 - 256)],\n",
        "[(0xf8 - 256), (0xd4 - 256)],\n",
        "[(0xda - 256), (0xd3 - 256)],\n",
        "[(0xcb - 256), (0xe7 - 256)],\n",
        "[(0xcc - 256), (0xc6 - 256)],\n",
        "[(0xd6 - 256), (0xf4 - 256)],\n",
        "[(0xdd - 256), (0xda - 256)],\n",
        "[(0xd1 - 256), (0xde - 256)],\n",
        "[(0xec - 256), (0xf5 - 256)],\n",
        "[(0xf8 - 256), (0xe7 - 256)],\n",
        "[(0xc9 - 256), (0xda - 256)],\n",
        "[(0xdc - 256), (0xc2 - 256)],\n",
        "[(0xcd - 256), (0xd5 - 256)],\n",
        "[(0xfa - 256), (0xd4 - 256)],\n",
        "[(0xe7 - 256), (0xe1 - 256)],\n",
        "[0x2f, (0xf0 - 256)],\n",
        "[0x32, (0xf1 - 256)],\n",
        "[0x8, (0xcb - 256)],\n",
        "[0x6, (0xd9 - 256)],\n",
        "[0x2f, (0xe6 - 256)],\n",
        "[0xa, (0xe3 - 256)],\n",
        "[0xb, (0xec - 256)],\n",
        "[0x7, (0xf8 - 256)],\n",
        "[0x21, (0xc8 - 256)],\n",
        "[0x17, (0xc9 - 256)],\n",
        "[0xf, (0xf3 - 256)],\n",
        "[0x13, (0xc9 - 256)],\n",
        "[0x18, (0xf7 - 256)],\n",
        "[0x27, (0xd7 - 256)],\n",
        "[0x7, (0xe0 - 256)],\n",
        "[0x6, (0xca - 256)],\n",
        "[0x24, (0xd7 - 256)],\n",
        "[0x22, (0xc5 - 256)],\n",
        "[0x35, (0xdd - 256)],\n",
        "[0x20, (0xf9 - 256)],\n",
        "[0x17, (0xc8 - 256)],\n",
        "[0x28, (0xea - 256)],\n",
        "[0x2d, (0xee - 256)],\n",
        "[0xc, (0xfa - 256)],\n",
        "[0x2c, (0xdc - 256)],\n",
        "[0xa, (0xd0 - 256)],\n",
        "[0x25, (0xe7 - 256)],\n",
        "[0x3c, (0xec - 256)],\n",
        "[0x2f, (0xc6 - 256)],\n",
        "[0x23, (0xe0 - 256)],\n",
        "[0x2d, (0xd9 - 256)],\n",
        "[0x21, (0xfa - 256)]])"
      ],
      "metadata": {
        "id": "ax9fahaZOsYk"
      },
      "execution_count": null,
      "outputs": []
    },
    {
      "cell_type": "code",
      "source": [
        "print(Individuos)"
      ],
      "metadata": {
        "colab": {
          "base_uri": "https://localhost:8080/"
        },
        "id": "YiRSFpM7r5OL",
        "outputId": "5cdcaed6-97c7-465c-c18c-619799c74ae6"
      },
      "execution_count": null,
      "outputs": [
        {
          "output_type": "stream",
          "name": "stdout",
          "text": [
            "[[ 26  11]\n",
            " [ 62  62]\n",
            " [ 48  37]\n",
            " [ 51   9]\n",
            " [ 61  20]\n",
            " [ 14  22]\n",
            " [ 55  47]\n",
            " [ 22  59]\n",
            " [ 49  63]\n",
            " [ 12  13]\n",
            " [ 15  44]\n",
            " [ 54  25]\n",
            " [ 63  19]\n",
            " [  5  46]\n",
            " [ 43  22]\n",
            " [ 24  15]\n",
            " [ 33  44]\n",
            " [ 29  53]\n",
            " [ 60  32]\n",
            " [ 48  37]\n",
            " [ 60   8]\n",
            " [ 20   7]\n",
            " [  7  38]\n",
            " [ 17  45]\n",
            " [  9  13]\n",
            " [ 30  59]\n",
            " [ 22  32]\n",
            " [ 40  19]\n",
            " [ 49  41]\n",
            " [ 40  54]\n",
            " [ 44  13]\n",
            " [  5  17]\n",
            " [-13  43]\n",
            " [ -7  59]\n",
            " [-35  62]\n",
            " [-44  60]\n",
            " [-35  14]\n",
            " [-21  20]\n",
            " [-62  11]\n",
            " [-24  40]\n",
            " [-26   6]\n",
            " [-16  62]\n",
            " [ -8  53]\n",
            " [-55   9]\n",
            " [-22  17]\n",
            " [-29  53]\n",
            " [-41  38]\n",
            " [-14  41]\n",
            " [-12  15]\n",
            " [-13  22]\n",
            " [-11  57]\n",
            " [-34  11]\n",
            " [-14  16]\n",
            " [-43   8]\n",
            " [-22   5]\n",
            " [-21  56]\n",
            " [-10  33]\n",
            " [-22  10]\n",
            " [-26  60]\n",
            " [-43  56]\n",
            " [-23  22]\n",
            " [-29  14]\n",
            " [-17  54]\n",
            " [-63  32]\n",
            " [-56 -53]\n",
            " [-16 -30]\n",
            " [-16 -44]\n",
            " [-47 -34]\n",
            " [-45 -36]\n",
            " [-59 -51]\n",
            " [-25 -19]\n",
            " [-24 -39]\n",
            " [-49 -44]\n",
            " [-44 -28]\n",
            " [-22 -24]\n",
            " [-12 -18]\n",
            " [-54 -40]\n",
            " [-13 -22]\n",
            " [-38 -42]\n",
            " [ -9 -26]\n",
            " [ -6 -52]\n",
            " [-37 -63]\n",
            " [ -8 -44]\n",
            " [-38 -45]\n",
            " [-53 -25]\n",
            " [-52 -58]\n",
            " [-42 -12]\n",
            " [-35 -38]\n",
            " [-47 -34]\n",
            " [-20 -11]\n",
            " [ -8 -25]\n",
            " [-55 -38]\n",
            " [-36 -62]\n",
            " [-51 -43]\n",
            " [ -6 -44]\n",
            " [-25 -31]\n",
            " [ 47 -16]\n",
            " [ 50 -15]\n",
            " [  8 -53]\n",
            " [  6 -39]\n",
            " [ 47 -26]\n",
            " [ 10 -29]\n",
            " [ 11 -20]\n",
            " [  7  -8]\n",
            " [ 33 -56]\n",
            " [ 23 -55]\n",
            " [ 15 -13]\n",
            " [ 19 -55]\n",
            " [ 24  -9]\n",
            " [ 39 -41]\n",
            " [  7 -32]\n",
            " [  6 -54]\n",
            " [ 36 -41]\n",
            " [ 34 -59]\n",
            " [ 53 -35]\n",
            " [ 32  -7]\n",
            " [ 23 -56]\n",
            " [ 40 -22]\n",
            " [ 45 -18]\n",
            " [ 12  -6]\n",
            " [ 44 -36]\n",
            " [ 10 -48]\n",
            " [ 37 -25]\n",
            " [ 60 -20]\n",
            " [ 47 -58]\n",
            " [ 35 -32]\n",
            " [ 45 -39]\n",
            " [ 33  -6]]\n"
          ]
        }
      ]
    },
    {
      "cell_type": "code",
      "source": [
        "plt.scatter(Individuos[:,1], Individuos[:,0]) #posicionamento dos eixos x e y\n",
        "plt.scatter(Centroides[:,1], Centroides[:,0], s = 100, linewidths=3, c = 'red') #posicionamento dos eixos x e y\n",
        "plt.scatter(Individuos[64,0], Individuos[64,1], s = 100, linewidths=3, c = 'green') #posicionamento dos eixos x e y\n",
        "plt.xlim(-70, 70) #range do eixo x\n",
        "plt.ylim(-70, 70) #range do eixo y\n",
        "plt.grid() #função que desenha a grade no nosso gráfico"
      ],
      "metadata": {
        "colab": {
          "base_uri": "https://localhost:8080/",
          "height": 430
        },
        "id": "IakLZ1qBwSFw",
        "outputId": "72896777-1a00-473a-ed6d-ecf729b37bdc"
      },
      "execution_count": null,
      "outputs": [
        {
          "output_type": "display_data",
          "data": {
            "text/plain": [
              "<Figure size 640x480 with 1 Axes>"
            ],
            "image/png": "[encoded data removed]"
          },
          "metadata": {}
        }
      ]
    },
    {
      "cell_type": "code",
      "source": [
        "df = pd.DataFrame(Individuos)\n",
        "print(df)"
      ],
      "metadata": {
        "colab": {
          "base_uri": "https://localhost:8080/"
        },
        "id": "EKtyh-QWy79c",
        "outputId": "80e3e2ac-8f14-44af-be0e-ce055e9f352e"
      },
      "execution_count": null,
      "outputs": [
        {
          "output_type": "stream",
          "name": "stdout",
          "text": [
            "      0   1\n",
            "0    26  11\n",
            "1    62  62\n",
            "2    48  37\n",
            "3    51   9\n",
            "4    61  20\n",
            "..   ..  ..\n",
            "123  60 -20\n",
            "124  47 -58\n",
            "125  35 -32\n",
            "126  45 -39\n",
            "127  33  -6\n",
            "\n",
            "[128 rows x 2 columns]\n"
          ]
        }
      ]
    },
    {
      "cell_type": "code",
      "source": [
        "kmeans = KMeans(n_clusters = 4, #numero de clusters\n",
        "                random_state=0,\n",
        "                init = Centroides,\n",
        "                n_init = \"auto\", #algoritmo que define a posição dos clusters de maneira mais assertiva\n",
        "                max_iter = 1, #numero máximo de iterações\n",
        "                algorithm='lloyd')\n",
        "\n",
        "kmeans.fit(df)\n",
        "pred_y = kmeans.fit_predict(df)\n",
        "\n",
        "labels = kmeans.labels_\n",
        "centroids = kmeans.cluster_centers_\n",
        "\n",
        "# Adicionando os rótulos de cluster ao DataFrame\n",
        "df['Cluster'] = kmeans.labels_"
      ],
      "metadata": {
        "id": "ojgsyK-wxZDD",
        "colab": {
          "base_uri": "https://localhost:8080/"
        },
        "outputId": "609b70bd-fb7a-4e70-ea87-ca9505e79b71"
      },
      "execution_count": null,
      "outputs": [
        {
          "output_type": "stream",
          "name": "stderr",
          "text": [
            "/usr/local/lib/python3.10/dist-packages/sklearn/cluster/_kmeans.py:878: FutureWarning: elementwise comparison failed; returning scalar instead, but in the future will perform elementwise comparison\n",
            "  if self.init == \"k-means++\":\n",
            "/usr/local/lib/python3.10/dist-packages/sklearn/cluster/_kmeans.py:1362: RuntimeWarning: Explicit initial center position passed: performing only one init in KMeans instead of n_init=10.\n",
            "  super()._check_params_vs_input(X, default_n_init=10)\n",
            "/usr/local/lib/python3.10/dist-packages/sklearn/cluster/_kmeans.py:878: FutureWarning: elementwise comparison failed; returning scalar instead, but in the future will perform elementwise comparison\n",
            "  if self.init == \"k-means++\":\n",
            "/usr/local/lib/python3.10/dist-packages/sklearn/cluster/_kmeans.py:1362: RuntimeWarning: Explicit initial center position passed: performing only one init in KMeans instead of n_init=10.\n",
            "  super()._check_params_vs_input(X, default_n_init=10)\n"
          ]
        }
      ]
    },
    {
      "cell_type": "code",
      "source": [
        "plt.scatter(Individuos[:,0], Individuos[:,1], c=labels, cmap='viridis') #posicionamento dos eixos x e y\n",
        "plt.xlim(-70, 70) #range do eixo x\n",
        "plt.ylim(-70, 70) #range do eixo y\n",
        "plt.grid() #função que desenha a grade no nosso gráfico\n",
        "plt.scatter(kmeans.cluster_centers_[:,0],kmeans.cluster_centers_[:,1], s = 100, linewidths=3, c = 'red') #posição de cada centroide no gráfico\n",
        "plt.show()"
      ],
      "metadata": {
        "colab": {
          "base_uri": "https://localhost:8080/",
          "height": 430
        },
        "id": "x8aE4lgGnqqB",
        "outputId": "2c1647bc-708a-4497-f71e-61ec5af41f40"
      },
      "execution_count": null,
      "outputs": [
        {
          "output_type": "display_data",
          "data": {
            "text/plain": [
              "<Figure size 640x480 with 1 Axes>"
            ],
            "image/png": "[encoded data removed]"
          },
          "metadata": {}
        }
      ]
    },
    {
      "cell_type": "code",
      "source": [
        "print(df)"
      ],
      "metadata": {
        "id": "Vb6F8brD30iS",
        "colab": {
          "base_uri": "https://localhost:8080/"
        },
        "outputId": "03da8211-710c-4637-f8e3-e9428486cc32"
      },
      "execution_count": null,
      "outputs": [
        {
          "output_type": "stream",
          "name": "stdout",
          "text": [
            "      0   1  Cluster\n",
            "0    26  11        0\n",
            "1    62  62        0\n",
            "2    48  37        0\n",
            "3    51   9        0\n",
            "4    61  20        0\n",
            "..   ..  ..      ...\n",
            "123  60 -20        3\n",
            "124  47 -58        3\n",
            "125  35 -32        3\n",
            "126  45 -39        3\n",
            "127  33  -6        3\n",
            "\n",
            "[128 rows x 3 columns]\n"
          ]
        }
      ]
    },
    {
      "cell_type": "code",
      "source": [
        "print(df[60:70])"
      ],
      "metadata": {
        "colab": {
          "base_uri": "https://localhost:8080/"
        },
        "id": "EAqCFT8Azdrq",
        "outputId": "823d483e-e897-4639-d9d8-28bfe952f995"
      },
      "execution_count": null,
      "outputs": [
        {
          "output_type": "stream",
          "name": "stdout",
          "text": [
            "     0   1  Cluster\n",
            "60 -23  22        1\n",
            "61 -29  14        1\n",
            "62 -17  54        1\n",
            "63 -63  32        1\n",
            "64 -56 -53        2\n",
            "65 -16 -30        2\n",
            "66 -16 -44        2\n",
            "67 -47 -34        2\n",
            "68 -45 -36        2\n",
            "69 -59 -51        2\n"
          ]
        }
      ]
    },
    {
      "cell_type": "code",
      "source": [
        "# Salvando para arquivo CSV\n",
        "df.to_csv(\"Kmeans-Ind128CAR2.csv\")"
      ],
      "metadata": {
        "id": "UVLFtiK1qClQ"
      },
      "execution_count": null,
      "outputs": []
    },
    {
      "cell_type": "code",
      "source": [
        "print(df['Cluster']==3)"
      ],
      "metadata": {
        "colab": {
          "base_uri": "https://localhost:8080/"
        },
        "id": "hvA75PhXhprJ",
        "outputId": "5c56975d-cf14-44db-879c-1420636e2dff"
      },
      "execution_count": null,
      "outputs": [
        {
          "output_type": "stream",
          "name": "stdout",
          "text": [
            "0      False\n",
            "1      False\n",
            "2      False\n",
            "3      False\n",
            "4      False\n",
            "       ...  \n",
            "123     True\n",
            "124     True\n",
            "125     True\n",
            "126     True\n",
            "127     True\n",
            "Name: Cluster, Length: 128, dtype: bool\n"
          ]
        }
      ]
    },
    {
      "cell_type": "code",
      "source": [
        "cluster_centers = kmeans.cluster_centers_  # Obtém os centroides de cada cluster\n",
        "cluster_sizes = df['Cluster'].value_counts()  # Obtém o número de pontos em cada cluster\n",
        "print(cluster_sizes)\n",
        "print(cluster_centers)"
      ],
      "metadata": {
        "colab": {
          "base_uri": "https://localhost:8080/"
        },
        "id": "0DfvSuw4u3DI",
        "outputId": "935b9a51-f2e9-4676-ab30-3cbaf43fe335"
      },
      "execution_count": null,
      "outputs": [
        {
          "output_type": "stream",
          "name": "stdout",
          "text": [
            "0    32\n",
            "1    32\n",
            "2    32\n",
            "3    32\n",
            "Name: Cluster, dtype: int64\n",
            "[[ 34.90625  32.0625 ]\n",
            " [-26.71875  33.09375]\n",
            " [-32.75    -36.71875]\n",
            " [ 29.3125  -32.15625]]\n"
          ]
        }
      ]
    }
  ]
}