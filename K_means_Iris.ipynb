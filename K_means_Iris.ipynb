{
  "cells": [
    {
      "cell_type": "markdown",
      "metadata": {
        "id": "view-in-github",
        "colab_type": "text"
      },
      "source": [
        "<a href=\"https://colab.research.google.com/github/webminst/TCC/blob/main/K_means_Iris.ipynb\" target=\"_parent\"><img src=\"https://colab.research.google.com/assets/colab-badge.svg\" alt=\"Open In Colab\"/></a>"
      ]
    },
    {
      "cell_type": "code",
      "execution_count": null,
      "metadata": {
        "id": "blccTpG85Wb3"
      },
      "outputs": [],
      "source": [
        "#Importando bibliotecas\n",
        "import pandas as pd\n",
        "import numpy as np\n",
        "import matplotlib.pyplot as plt\n",
        "from sklearn.datasets import load_iris\n",
        "from sklearn.cluster import KMeans\n",
        "\n"
      ]
    },
    {
      "cell_type": "code",
      "source": [
        "Centroides = np.array(\n",
        "   #matriz com os valores dos centroides\n",
        "   [[0x33, 0x23, 0xe, 0x2],   #01\n",
        "   [0x31, 0x24, 0xe, 0x1],    #02\n",
        "   [0x40, 0x1d, 0x2b, 0xd],   #03\n",
        "   [0x40, 0x1b, 0x35, 0x13]]) #04"
      ],
      "metadata": {
        "id": "KS3jwWTPCX0r"
      },
      "execution_count": null,
      "outputs": []
    },
    {
      "cell_type": "code",
      "source": [
        "print(Centroides)"
      ],
      "metadata": {
        "colab": {
          "base_uri": "https://localhost:8080/"
        },
        "id": "O7oYKlGdDpeS",
        "outputId": "95b36ec1-e2ec-4cb6-d618-98da58204b91"
      },
      "execution_count": null,
      "outputs": [
        {
          "output_type": "stream",
          "name": "stdout",
          "text": [
            "[[51 35 14  2]\n",
            " [49 36 14  1]\n",
            " [64 29 43 13]\n",
            " [64 27 53 19]]\n"
          ]
        }
      ]
    },
    {
      "cell_type": "code",
      "execution_count": null,
      "metadata": {
        "colab": {
          "base_uri": "https://localhost:8080/"
        },
        "id": "ahLTvhXYpHgK",
        "outputId": "ad367a2f-4a57-4895-c52e-9a989fcadb3f"
      },
      "outputs": [
        {
          "output_type": "stream",
          "name": "stdout",
          "text": [
            "['setosa' 'versicolor' 'virginica']\n",
            "[[5.1 3.5 1.4 0.2]\n",
            " [4.9 3.  1.4 0.2]\n",
            " [4.7 3.2 1.3 0.2]\n",
            " [4.6 3.1 1.5 0.2]\n",
            " [5.  3.6 1.4 0.2]\n",
            " [5.4 3.9 1.7 0.4]\n",
            " [4.6 3.4 1.4 0.3]\n",
            " [5.  3.4 1.5 0.2]\n",
            " [4.4 2.9 1.4 0.2]\n",
            " [4.9 3.1 1.5 0.1]\n",
            " [5.4 3.7 1.5 0.2]\n",
            " [4.8 3.4 1.6 0.2]\n",
            " [4.8 3.  1.4 0.1]\n",
            " [4.3 3.  1.1 0.1]\n",
            " [5.8 4.  1.2 0.2]\n",
            " [5.7 4.4 1.5 0.4]\n",
            " [5.4 3.9 1.3 0.4]\n",
            " [5.1 3.5 1.4 0.3]\n",
            " [5.7 3.8 1.7 0.3]\n",
            " [5.1 3.8 1.5 0.3]\n",
            " [5.4 3.4 1.7 0.2]\n",
            " [5.1 3.7 1.5 0.4]\n",
            " [4.6 3.6 1.  0.2]\n",
            " [5.1 3.3 1.7 0.5]\n",
            " [4.8 3.4 1.9 0.2]\n",
            " [5.  3.  1.6 0.2]\n",
            " [5.  3.4 1.6 0.4]\n",
            " [5.2 3.5 1.5 0.2]\n",
            " [5.2 3.4 1.4 0.2]\n",
            " [4.7 3.2 1.6 0.2]\n",
            " [4.8 3.1 1.6 0.2]\n",
            " [5.4 3.4 1.5 0.4]\n",
            " [5.2 4.1 1.5 0.1]\n",
            " [5.5 4.2 1.4 0.2]\n",
            " [4.9 3.1 1.5 0.2]\n",
            " [5.  3.2 1.2 0.2]\n",
            " [5.5 3.5 1.3 0.2]\n",
            " [4.9 3.6 1.4 0.1]\n",
            " [4.4 3.  1.3 0.2]\n",
            " [5.1 3.4 1.5 0.2]\n",
            " [5.  3.5 1.3 0.3]\n",
            " [4.5 2.3 1.3 0.3]\n",
            " [4.4 3.2 1.3 0.2]\n",
            " [5.  3.5 1.6 0.6]\n",
            " [5.1 3.8 1.9 0.4]\n",
            " [4.8 3.  1.4 0.3]\n",
            " [5.1 3.8 1.6 0.2]\n",
            " [4.6 3.2 1.4 0.2]\n",
            " [5.3 3.7 1.5 0.2]\n",
            " [5.  3.3 1.4 0.2]\n",
            " [7.  3.2 4.7 1.4]\n",
            " [6.4 3.2 4.5 1.5]\n",
            " [6.9 3.1 4.9 1.5]\n",
            " [5.5 2.3 4.  1.3]\n",
            " [6.5 2.8 4.6 1.5]\n",
            " [5.7 2.8 4.5 1.3]\n",
            " [6.3 3.3 4.7 1.6]\n",
            " [4.9 2.4 3.3 1. ]\n",
            " [6.6 2.9 4.6 1.3]\n",
            " [5.2 2.7 3.9 1.4]\n",
            " [5.  2.  3.5 1. ]\n",
            " [5.9 3.  4.2 1.5]\n",
            " [6.  2.2 4.  1. ]\n",
            " [6.1 2.9 4.7 1.4]\n",
            " [5.6 2.9 3.6 1.3]\n",
            " [6.7 3.1 4.4 1.4]\n",
            " [5.6 3.  4.5 1.5]\n",
            " [5.8 2.7 4.1 1. ]\n",
            " [6.2 2.2 4.5 1.5]\n",
            " [5.6 2.5 3.9 1.1]\n",
            " [5.9 3.2 4.8 1.8]\n",
            " [6.1 2.8 4.  1.3]\n",
            " [6.3 2.5 4.9 1.5]\n",
            " [6.1 2.8 4.7 1.2]\n",
            " [6.4 2.9 4.3 1.3]\n",
            " [6.6 3.  4.4 1.4]\n",
            " [6.8 2.8 4.8 1.4]\n",
            " [6.7 3.  5.  1.7]\n",
            " [6.  2.9 4.5 1.5]\n",
            " [5.7 2.6 3.5 1. ]\n",
            " [5.5 2.4 3.8 1.1]\n",
            " [5.5 2.4 3.7 1. ]\n",
            " [5.8 2.7 3.9 1.2]\n",
            " [6.  2.7 5.1 1.6]\n",
            " [5.4 3.  4.5 1.5]\n",
            " [6.  3.4 4.5 1.6]\n",
            " [6.7 3.1 4.7 1.5]\n",
            " [6.3 2.3 4.4 1.3]\n",
            " [5.6 3.  4.1 1.3]\n",
            " [5.5 2.5 4.  1.3]\n",
            " [5.5 2.6 4.4 1.2]\n",
            " [6.1 3.  4.6 1.4]\n",
            " [5.8 2.6 4.  1.2]\n",
            " [5.  2.3 3.3 1. ]\n",
            " [5.6 2.7 4.2 1.3]\n",
            " [5.7 3.  4.2 1.2]\n",
            " [5.7 2.9 4.2 1.3]\n",
            " [6.2 2.9 4.3 1.3]\n",
            " [5.1 2.5 3.  1.1]\n",
            " [5.7 2.8 4.1 1.3]\n",
            " [6.3 3.3 6.  2.5]\n",
            " [5.8 2.7 5.1 1.9]\n",
            " [7.1 3.  5.9 2.1]\n",
            " [6.3 2.9 5.6 1.8]\n",
            " [6.5 3.  5.8 2.2]\n",
            " [7.6 3.  6.6 2.1]\n",
            " [4.9 2.5 4.5 1.7]\n",
            " [7.3 2.9 6.3 1.8]\n",
            " [6.7 2.5 5.8 1.8]\n",
            " [7.2 3.6 6.1 2.5]\n",
            " [6.5 3.2 5.1 2. ]\n",
            " [6.4 2.7 5.3 1.9]\n",
            " [6.8 3.  5.5 2.1]\n",
            " [5.7 2.5 5.  2. ]\n",
            " [5.8 2.8 5.1 2.4]\n",
            " [6.4 3.2 5.3 2.3]\n",
            " [6.5 3.  5.5 1.8]\n",
            " [7.7 3.8 6.7 2.2]\n",
            " [7.7 2.6 6.9 2.3]\n",
            " [6.  2.2 5.  1.5]\n",
            " [6.9 3.2 5.7 2.3]\n",
            " [5.6 2.8 4.9 2. ]\n",
            " [7.7 2.8 6.7 2. ]\n",
            " [6.3 2.7 4.9 1.8]\n",
            " [6.7 3.3 5.7 2.1]\n",
            " [7.2 3.2 6.  1.8]\n",
            " [6.2 2.8 4.8 1.8]\n",
            " [6.1 3.  4.9 1.8]\n",
            " [6.4 2.8 5.6 2.1]\n",
            " [7.2 3.  5.8 1.6]\n",
            " [7.4 2.8 6.1 1.9]\n",
            " [7.9 3.8 6.4 2. ]\n",
            " [6.4 2.8 5.6 2.2]\n",
            " [6.3 2.8 5.1 1.5]\n",
            " [6.1 2.6 5.6 1.4]\n",
            " [7.7 3.  6.1 2.3]\n",
            " [6.3 3.4 5.6 2.4]\n",
            " [6.4 3.1 5.5 1.8]\n",
            " [6.  3.  4.8 1.8]\n",
            " [6.9 3.1 5.4 2.1]\n",
            " [6.7 3.1 5.6 2.4]\n",
            " [6.9 3.1 5.1 2.3]\n",
            " [5.8 2.7 5.1 1.9]\n",
            " [6.8 3.2 5.9 2.3]\n",
            " [6.7 3.3 5.7 2.5]\n",
            " [6.7 3.  5.2 2.3]\n",
            " [6.3 2.5 5.  1.9]\n",
            " [6.5 3.  5.2 2. ]\n",
            " [6.2 3.4 5.4 2.3]\n",
            " [5.9 3.  5.1 1.8]]\n"
          ]
        }
      ],
      "source": [
        "#Aqui eu instancio o objeto.\n",
        "iris = load_iris()\n",
        "X = iris.data\n",
        "y = iris.target\n",
        "labels_names = iris.target_names # E aqui o nome de cada Label\n",
        "print(labels_names)\n",
        "print(X)"
      ]
    },
    {
      "cell_type": "markdown",
      "metadata": {
        "id": "DHeuyo7E0mOU"
      },
      "source": [
        "**Grafico de Caixa**\n",
        "\n",
        "Fornece um resumo visual rápido da variabilidade de valores em um conjunto de dados.\n",
        "Eles mostram os valores **medianos, quartis superiores e inferiores, valores mínimo e máximo** e quaisquer valores atípicos no conjunto de dados.\n",
        "Os valores atípicos podem revelar enganos ou ocorrências incomuns nos dados."
      ]
    },
    {
      "cell_type": "code",
      "execution_count": null,
      "metadata": {
        "colab": {
          "base_uri": "https://localhost:8080/",
          "height": 478
        },
        "id": "VBbTMXkD0WAt",
        "outputId": "810cf5a8-2af5-4166-ee5c-05f0d53ae113"
      },
      "outputs": [
        {
          "output_type": "display_data",
          "data": {
            "text/plain": [
              "<Figure size 640x480 with 1 Axes>"
            ],
            "image/png": "[encoded data removed]"
          },
          "metadata": {}
        }
      ],
      "source": [
        "plt.boxplot(X)\n",
        "plt.title(\"Boxplot das características\", loc=\"center\", fontsize=18)\n",
        "plt.ylabel(\"Tamanho\")\n",
        "plt.xlabel(\"Característica\")\n",
        "plt.show()"
      ]
    },
    {
      "cell_type": "markdown",
      "metadata": {
        "id": "faMaxe606T2e"
      },
      "source": [
        "# **Ajustes**\n",
        "1. Remover o ponto flutuante dos dados multiplicando os valores por 10.\n",
        "2. Converter os valores de decimais para hexadeciais"
      ]
    },
    {
      "cell_type": "code",
      "execution_count": null,
      "metadata": {
        "colab": {
          "base_uri": "https://localhost:8080/"
        },
        "id": "23qBcXur6wvi",
        "outputId": "ff171d69-12e4-41db-9b17-d1ab2af138d4"
      },
      "outputs": [
        {
          "output_type": "stream",
          "name": "stdout",
          "text": [
            "[[51 35 14  2]\n",
            " [49 30 14  2]\n",
            " [47 32 13  2]\n",
            " [46 31 15  2]\n",
            " [50 36 14  2]\n",
            " [54 39 17  4]\n",
            " [46 34 14  3]\n",
            " [50 34 15  2]\n",
            " [44 29 14  2]\n",
            " [49 31 15  1]\n",
            " [54 37 15  2]\n",
            " [48 34 16  2]\n",
            " [48 30 14  1]\n",
            " [43 30 11  1]\n",
            " [58 40 12  2]\n",
            " [57 44 15  4]\n",
            " [54 39 13  4]\n",
            " [51 35 14  3]\n",
            " [57 38 17  3]\n",
            " [51 38 15  3]\n",
            " [54 34 17  2]\n",
            " [51 37 15  4]\n",
            " [46 36 10  2]\n",
            " [51 33 17  5]\n",
            " [48 34 19  2]\n",
            " [50 30 16  2]\n",
            " [50 34 16  4]\n",
            " [52 35 15  2]\n",
            " [52 34 14  2]\n",
            " [47 32 16  2]\n",
            " [48 31 16  2]\n",
            " [54 34 15  4]\n",
            " [52 41 15  1]\n",
            " [55 42 14  2]\n",
            " [49 31 15  2]\n",
            " [50 32 12  2]\n",
            " [55 35 13  2]\n",
            " [49 36 14  1]\n",
            " [44 30 13  2]\n",
            " [51 34 15  2]\n",
            " [50 35 13  3]\n",
            " [45 23 13  3]\n",
            " [44 32 13  2]\n",
            " [50 35 16  6]\n",
            " [51 38 19  4]\n",
            " [48 30 14  3]\n",
            " [51 38 16  2]\n",
            " [46 32 14  2]\n",
            " [53 37 15  2]\n",
            " [50 33 14  2]\n",
            " [70 32 47 14]\n",
            " [64 32 45 15]\n",
            " [69 31 49 15]\n",
            " [55 23 40 13]\n",
            " [65 28 46 15]\n",
            " [57 28 45 13]\n",
            " [63 33 47 16]\n",
            " [49 24 33 10]\n",
            " [66 29 46 13]\n",
            " [52 27 39 14]\n",
            " [50 20 35 10]\n",
            " [59 30 42 15]\n",
            " [60 22 40 10]\n",
            " [61 29 47 14]\n",
            " [56 29 36 13]\n",
            " [67 31 44 14]\n",
            " [56 30 45 15]\n",
            " [58 27 41 10]\n",
            " [62 22 45 15]\n",
            " [56 25 39 11]\n",
            " [59 32 48 18]\n",
            " [61 28 40 13]\n",
            " [63 25 49 15]\n",
            " [61 28 47 12]\n",
            " [64 29 43 13]\n",
            " [66 30 44 14]\n",
            " [68 28 48 14]\n",
            " [67 30 50 17]\n",
            " [60 29 45 15]\n",
            " [57 26 35 10]\n",
            " [55 24 38 11]\n",
            " [55 24 37 10]\n",
            " [58 27 39 12]\n",
            " [60 27 51 16]\n",
            " [54 30 45 15]\n",
            " [60 34 45 16]\n",
            " [67 31 47 15]\n",
            " [63 23 44 13]\n",
            " [56 30 41 13]\n",
            " [55 25 40 13]\n",
            " [55 26 44 12]\n",
            " [61 30 46 14]\n",
            " [58 26 40 12]\n",
            " [50 23 33 10]\n",
            " [56 27 42 13]\n",
            " [57 30 42 12]\n",
            " [57 29 42 13]\n",
            " [62 29 43 13]\n",
            " [51 25 30 11]\n",
            " [57 28 41 13]\n",
            " [63 33 60 25]\n",
            " [58 27 51 19]\n",
            " [71 30 59 21]\n",
            " [63 29 56 18]\n",
            " [65 30 58 22]\n",
            " [76 30 66 21]\n",
            " [49 25 45 17]\n",
            " [73 29 63 18]\n",
            " [67 25 58 18]\n",
            " [72 36 61 25]\n",
            " [65 32 51 20]\n",
            " [64 27 53 19]\n",
            " [68 30 55 21]\n",
            " [57 25 50 20]\n",
            " [58 28 51 24]\n",
            " [64 32 53 23]\n",
            " [65 30 55 18]\n",
            " [77 38 67 22]\n",
            " [77 26 69 23]\n",
            " [60 22 50 15]\n",
            " [69 32 57 23]\n",
            " [56 28 49 20]\n",
            " [77 28 67 20]\n",
            " [63 27 49 18]\n",
            " [67 33 57 21]\n",
            " [72 32 60 18]\n",
            " [62 28 48 18]\n",
            " [61 30 49 18]\n",
            " [64 28 56 21]\n",
            " [72 30 58 16]\n",
            " [74 28 61 19]\n",
            " [79 38 64 20]\n",
            " [64 28 56 22]\n",
            " [63 28 51 15]\n",
            " [61 26 56 14]\n",
            " [77 30 61 23]\n",
            " [63 34 56 24]\n",
            " [64 31 55 18]\n",
            " [60 30 48 18]\n",
            " [69 31 54 21]\n",
            " [67 31 56 24]\n",
            " [69 31 51 23]\n",
            " [58 27 51 19]\n",
            " [68 32 59 23]\n",
            " [67 33 57 25]\n",
            " [67 30 52 23]\n",
            " [63 25 50 19]\n",
            " [65 30 52 20]\n",
            " [62 34 54 23]\n",
            " [59 30 51 18]]\n"
          ]
        }
      ],
      "source": [
        "# Multiplicar todos os elementos por 10\n",
        "X = X * 10\n",
        "# Converter as colunas para inteiros\n",
        "X = X.astype(int)\n",
        "print(X)"
      ]
    },
    {
      "cell_type": "code",
      "execution_count": null,
      "metadata": {
        "colab": {
          "base_uri": "https://localhost:8080/"
        },
        "id": "rABxkUxI-vsP",
        "outputId": "be7c7426-06bf-4076-dcf3-0935ab847391"
      },
      "outputs": [
        {
          "output_type": "stream",
          "name": "stdout",
          "text": [
            "        0     1     2     3\n",
            "0    0x33  0x23   0xe   0x2\n",
            "1    0x31  0x1e   0xe   0x2\n",
            "2    0x2f  0x20   0xd   0x2\n",
            "3    0x2e  0x1f   0xf   0x2\n",
            "4    0x32  0x24   0xe   0x2\n",
            "..    ...   ...   ...   ...\n",
            "145  0x43  0x1e  0x34  0x17\n",
            "146  0x3f  0x19  0x32  0x13\n",
            "147  0x41  0x1e  0x34  0x14\n",
            "148  0x3e  0x22  0x36  0x17\n",
            "149  0x3b  0x1e  0x33  0x12\n",
            "\n",
            "[150 rows x 4 columns]\n"
          ]
        }
      ],
      "source": [
        "# Usando a função hex para converter os valores do DataFrame para hexadecimal\n",
        "df = pd.DataFrame(X)\n",
        "df_hex = df.applymap(lambda x: hex(x))\n",
        "# Salvando para arquivo CSV\n",
        "df_hex.to_csv(\"Iris_df_hex.csv\")\n",
        "# Agora df_hex contém os valores em hexadecimal\n",
        "print(df_hex)"
      ]
    },
    {
      "cell_type": "markdown",
      "metadata": {
        "id": "BkeyxiRXNBBr"
      },
      "source": [
        "# Aplicando o K-means ao Dataframe"
      ]
    },
    {
      "cell_type": "code",
      "source": [
        "kmeans = KMeans(n_clusters = 4, #numero de clusters\n",
        "                random_state=0,\n",
        "                init = Centroides,\n",
        "                n_init = \"auto\", #algoritmo que define a posição dos clusters de maneira mais assertiva\n",
        "                max_iter = 1, #numero máximo de iterações\n",
        "                algorithm='lloyd')\n",
        "\n",
        "kmeans.fit(df)\n",
        "pred_y = kmeans.fit_predict(df)\n",
        "\n",
        "labels = kmeans.labels_\n",
        "centroids = kmeans.cluster_centers_\n",
        "\n",
        "# Adicionando os rótulos de cluster ao DataFrame\n",
        "df['Cluster'] = kmeans.labels_\n",
        "\n",
        "# Exibindo o DataFrame resultante\n",
        "print(df)"
      ],
      "metadata": {
        "colab": {
          "base_uri": "https://localhost:8080/"
        },
        "id": "3BcIODCWD8O9",
        "outputId": "c9905c3c-1146-4899-830e-43f1efc4dbf3"
      },
      "execution_count": null,
      "outputs": [
        {
          "output_type": "stream",
          "name": "stdout",
          "text": [
            "      0   1   2   3  Cluster\n",
            "0    51  35  14   2        0\n",
            "1    49  30  14   2        1\n",
            "2    47  32  13   2        1\n",
            "3    46  31  15   2        1\n",
            "4    50  36  14   2        0\n",
            "..   ..  ..  ..  ..      ...\n",
            "145  67  30  52  23        3\n",
            "146  63  25  50  19        3\n",
            "147  65  30  52  20        3\n",
            "148  62  34  54  23        3\n",
            "149  59  30  51  18        3\n",
            "\n",
            "[150 rows x 5 columns]\n"
          ]
        },
        {
          "output_type": "stream",
          "name": "stderr",
          "text": [
            "/usr/local/lib/python3.10/dist-packages/sklearn/cluster/_kmeans.py:878: FutureWarning: elementwise comparison failed; returning scalar instead, but in the future will perform elementwise comparison\n",
            "  if self.init == \"k-means++\":\n",
            "/usr/local/lib/python3.10/dist-packages/sklearn/cluster/_kmeans.py:1362: RuntimeWarning: Explicit initial center position passed: performing only one init in KMeans instead of n_init=10.\n",
            "  super()._check_params_vs_input(X, default_n_init=10)\n",
            "/usr/local/lib/python3.10/dist-packages/sklearn/cluster/_kmeans.py:878: FutureWarning: elementwise comparison failed; returning scalar instead, but in the future will perform elementwise comparison\n",
            "  if self.init == \"k-means++\":\n",
            "/usr/local/lib/python3.10/dist-packages/sklearn/cluster/_kmeans.py:1362: RuntimeWarning: Explicit initial center position passed: performing only one init in KMeans instead of n_init=10.\n",
            "  super()._check_params_vs_input(X, default_n_init=10)\n"
          ]
        }
      ]
    },
    {
      "cell_type": "code",
      "source": [
        "# Salvando para arquivo CSV\n",
        "df.to_csv(\"Kmeans-Iris_data.csv\")"
      ],
      "metadata": {
        "id": "ICs3RK95E0Ce"
      },
      "execution_count": null,
      "outputs": []
    },
    {
      "cell_type": "code",
      "execution_count": null,
      "metadata": {
        "colab": {
          "base_uri": "https://localhost:8080/"
        },
        "id": "JzonpwMqOkcP",
        "outputId": "d3bf7d85-e32b-4d2d-856f-677fbebf13e6"
      },
      "outputs": [
        {
          "output_type": "stream",
          "name": "stdout",
          "text": [
            "3    50\n",
            "2    50\n",
            "0    29\n",
            "1    21\n",
            "Name: Cluster, dtype: int64\n",
            "[[51.47222222 34.75       14.83333333  2.69444444]\n",
            " [46.42857143 33.07142857 14.07142857  1.85714286]\n",
            " [58.89361702 27.57446809 42.06382979 13.06382979]\n",
            " [65.9245283  29.73584906 55.26415094 20.03773585]]\n"
          ]
        }
      ],
      "source": [
        "cluster_centers = kmeans.cluster_centers_  # Obtém os centroides de cada cluster\n",
        "cluster_sizes = df['Cluster'].value_counts()  # Obtém o número de pontos em cada cluster\n",
        "print(cluster_sizes)\n",
        "print(cluster_centers)"
      ]
    },
    {
      "cell_type": "code",
      "execution_count": null,
      "metadata": {
        "colab": {
          "base_uri": "https://localhost:8080/",
          "height": 452
        },
        "id": "VvpYi3ZY0LIV",
        "outputId": "76cade9a-44c6-4126-b13f-22f730280ab3"
      },
      "outputs": [
        {
          "output_type": "display_data",
          "data": {
            "text/plain": [
              "<Figure size 640x480 with 1 Axes>"
            ],
            "image/png": "[encoded data removed]"
          },
          "metadata": {}
        }
      ],
      "source": [
        "plt.scatter(X[:,0], X[:,1], c=labels, cmap='viridis')\n",
        "plt.scatter(centroids[:,0], centroids[:,1], marker='x', s=200, linewidths=3, color='r')\n",
        "plt.xlabel('Sepal length')\n",
        "plt.ylabel('Sepal width')\n",
        "plt.show()"
      ]
    }
  ],
  "metadata": {
    "colab": {
      "provenance": [],
      "include_colab_link": true
    },
    "kernelspec": {
      "display_name": "Python 3",
      "name": "python3"
    },
    "language_info": {
      "name": "python"
    }
  },
  "nbformat": 4,
  "nbformat_minor": 0
}